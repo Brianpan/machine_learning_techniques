{
 "cells": [
  {
   "cell_type": "code",
   "execution_count": 33,
   "metadata": {
    "collapsed": true
   },
   "outputs": [],
   "source": [
    "import numpy as np\n",
    "from numpy.linalg import inv\n",
    "from scipy.spatial.distance import pdist, squareform\n",
    "import scipy as scip\n",
    "import pandas as pd"
   ]
  },
  {
   "cell_type": "code",
   "execution_count": 17,
   "metadata": {
    "collapsed": false
   },
   "outputs": [],
   "source": [
    "# pdist calculate by rows\n",
    "x = np.array([[1,2,3],[2,3,4]])\n",
    "dist_m=pdist(x,\"euclidean\")\n",
    "# K=scip.exp(-dist_m)"
   ]
  },
  {
   "cell_type": "code",
   "execution_count": 28,
   "metadata": {
    "collapsed": false
   },
   "outputs": [],
   "source": [
    "DATA_FILE = \"datasets/hw2_lssvm_all.dat\"\n",
    "dataset = pd.read_csv(DATA_FILE, header=None, delimiter=\"\\s+\")\n",
    "dataset = dataset.as_matrix()\n",
    "train_set = dataset[0:400,:]\n",
    "test_set = dataset[400:,:]"
   ]
  },
  {
   "cell_type": "code",
   "execution_count": 82,
   "metadata": {
    "collapsed": false
   },
   "outputs": [],
   "source": [
    "train_X = train_set[:,:-1]\n",
    "train_Y = train_set[:,-1]\n",
    "test_X = test_set[:,:-1]\n",
    "test_Y = test_set[:,-1]"
   ]
  },
  {
   "cell_type": "code",
   "execution_count": 83,
   "metadata": {
    "collapsed": false
   },
   "outputs": [],
   "source": [
    "gammas = [32, 2, 0.125]\n",
    "lambdas = [0.001, 1, 1000]"
   ]
  },
  {
   "cell_type": "code",
   "execution_count": 116,
   "metadata": {
    "collapsed": false
   },
   "outputs": [],
   "source": [
    "def gaussian_rbf(data, gamma):\n",
    "    dist_d = squareform( pdist(data, \"euclidean\") )\n",
    "    return scip.exp(-1*gamma*(dist_d**2) )\n",
    "\n",
    "def compute_ein(beta, K, train_Y):\n",
    "    y_hats = K.dot(beta)\n",
    "    truth_table = 1*(np.sign(y_hats) != np.sign(train_Y.reshape((400,1))) )\n",
    "    error = np.sum(truth_table)/400\n",
    "    return error\n",
    "\n",
    "def compute_eout(beta, gamma, train_X, test_X, test_Y):\n",
    "    error = 0\n",
    "    rows = test_X.shape[0]\n",
    "    for tx in range(rows):\n",
    "        dist_d = np.sum( np.square(train_X - test_X[tx]), axis=1 )\n",
    "        k = np.exp(-1*gamma*dist_d)\n",
    "        y_hat = np.sign(k.T.dot(beta))\n",
    "        if np.sign(test_Y[tx]) != y_hat:\n",
    "            error += 1\n",
    "    \n",
    "    return error/rows\n",
    "    \n",
    "min_cost = None\n",
    "min_ocost = None\n",
    "for gamma in gammas:\n",
    "    for lamb in lambdas:\n",
    "        lamb_matrix = lamb*np.eye(400)\n",
    "        K = gaussian_rbf(train_X, gamma)\n",
    "        beta = inv(lamb_matrix + K).dot(train_Y).reshape((400,1))\n",
    "        cost = compute_ein(beta, K, train_Y)\n",
    "        if min_cost is None or min_cost > cost:\n",
    "            best_params = (gamma, lamb)\n",
    "            min_cost = cost\n",
    "        cost_eout = compute_eout(beta, gamma, train_X, test_X, test_Y)\n",
    "        if min_ocost is None or min_ocost > cost_eout:\n",
    "            min_ocost = cost_eout"
   ]
  },
  {
   "cell_type": "code",
   "execution_count": null,
   "metadata": {
    "collapsed": false
   },
   "outputs": [],
   "source": []
  },
  {
   "cell_type": "code",
   "execution_count": null,
   "metadata": {
    "collapsed": false
   },
   "outputs": [],
   "source": []
  },
  {
   "cell_type": "code",
   "execution_count": null,
   "metadata": {
    "collapsed": false
   },
   "outputs": [],
   "source": []
  },
  {
   "cell_type": "code",
   "execution_count": null,
   "metadata": {
    "collapsed": true
   },
   "outputs": [],
   "source": []
  },
  {
   "cell_type": "code",
   "execution_count": null,
   "metadata": {
    "collapsed": false
   },
   "outputs": [],
   "source": []
  },
  {
   "cell_type": "code",
   "execution_count": null,
   "metadata": {
    "collapsed": true
   },
   "outputs": [],
   "source": []
  }
 ],
 "metadata": {
  "kernelspec": {
   "display_name": "Python 3",
   "language": "python",
   "name": "python3"
  },
  "language_info": {
   "codemirror_mode": {
    "name": "ipython",
    "version": 3
   },
   "file_extension": ".py",
   "mimetype": "text/x-python",
   "name": "python",
   "nbconvert_exporter": "python",
   "pygments_lexer": "ipython3",
   "version": "3.6.0"
  }
 },
 "nbformat": 4,
 "nbformat_minor": 2
}
