{
 "cells": [
  {
   "cell_type": "code",
   "execution_count": 145,
   "metadata": {
    "collapsed": true
   },
   "outputs": [],
   "source": [
    "import pandas as pd\n",
    "import math\n",
    "import numpy as np"
   ]
  },
  {
   "cell_type": "code",
   "execution_count": 226,
   "metadata": {
    "collapsed": false
   },
   "outputs": [],
   "source": [
    "TRAIN_FILE = \"machine/hw2_adaboost_train.csv\"\n",
    "TEST_FILE = \"machine/hw2_adaboost_test.csv\"\n",
    "train_data = pd.read_csv(TRAIN_FILE, header=None, delimiter=\"\\s+\")\n",
    "test_data = pd.read_csv(TEST_FILE, header=None, delimiter=\"\\s+\")\n",
    "# get row 0\n",
    "# train_data.iloc[0]"
   ]
  },
  {
   "cell_type": "code",
   "execution_count": 243,
   "metadata": {
    "collapsed": false
   },
   "outputs": [],
   "source": [
    "def sorted_by_feature(feature_id, pd_matrix):\n",
    "    return pd_matrix.sort_values(feature_id)\n",
    "\n",
    "def decision_stump(pd_matrix, u):\n",
    "    feature_count = pd_matrix.shape[1] - 1\n",
    "    data_count = pd_matrix.shape[0]\n",
    "    \n",
    "    error_rate = 1\n",
    "    c_feature = None\n",
    "    c_threshold = None\n",
    "    direct_arr = [1, -1]\n",
    "    sum_u = np.sum(u)\n",
    "    np_matrix = pd_matrix.as_matrix()\n",
    "    X = np_matrix[:,0:-1]\n",
    "    Y = np_matrix[:,-1]\n",
    "    \n",
    "    for feature_i in range(feature_count):\n",
    "        pd_matrix_sorted = sorted_by_feature(feature_i, pd_matrix)\n",
    "        for direct in direct_arr:\n",
    "            for row_id in range(data_count):\n",
    "                #\n",
    "                if row_id == 0:\n",
    "                    s = -1\n",
    "                else:\n",
    "                    s = ( pd_matrix_sorted.iloc[row_id-1][feature_i] + pd_matrix_sorted.iloc[row_id][feature_i] )/2\n",
    "\n",
    "                # calculate error\n",
    "                y_hats = np.sign( np_matrix[:,feature_i] - s )\n",
    "                error_tmp = (direct*y_hats != Y).T.dot(u)/sum_u\n",
    "\n",
    "                if error_tmp < error_rate:\n",
    "                    c_feature = feature_i\n",
    "                    c_threshold = s\n",
    "                    c_direct = direct\n",
    "                    error_rate = error_tmp\n",
    "                    \n",
    "    # update u\n",
    "    updated_p = math.sqrt( (1-error_rate)/error_rate )\n",
    "    alpha = math.log(updated_p)\n",
    "    for rid in range(data_count):\n",
    "        row = pd_matrix.iloc[rid]\n",
    "        y_head = c_direct if row[c_feature] >= c_threshold else -1*c_direct\n",
    "        y = row[feature_count]\n",
    "        if (y*y_head) < 0:\n",
    "            u[rid][0] = u[rid][0]*updated_p\n",
    "        else:\n",
    "            u[rid][0] = u[rid][0]/updated_p\n",
    "\n",
    "    return (c_threshold, c_direct, c_feature, u, alpha, error_rate)"
   ]
  },
  {
   "cell_type": "code",
   "execution_count": 244,
   "metadata": {
    "collapsed": false
   },
   "outputs": [],
   "source": [
    "u = np.ones((len(train_data), 1))/len(train_data)\n",
    "ada_stump_params = []\n",
    "for _ in range(300):\n",
    "    s, direct, feature_i, u, alpha, error_rate = decision_stump(train_data, u)\n",
    "    \n",
    "    ada_stump_params.append([s, direct, feature_i, alpha, error_rate, np.sum(u)])\n",
    "#     u = list(map(lambda x: x/sum_u, u))\n",
    "    "
   ]
  },
  {
   "cell_type": "code",
   "execution_count": 245,
   "metadata": {
    "collapsed": false
   },
   "outputs": [],
   "source": [
    "# calculate G\n",
    "def calculate_G(pd_matrix):\n",
    "    predicted_y = []\n",
    "    y = []\n",
    "    for rid in range(len(pd_matrix)):\n",
    "        row = pd_matrix.iloc[rid]\n",
    "        y_idx = pd_matrix.shape[1] - 1\n",
    "        y.append(row[y_idx])\n",
    "        y_head = 0\n",
    "        for param in ada_stump_params:\n",
    "            alpha = param[3]\n",
    "            feature = param[2]\n",
    "            direct = param[1]\n",
    "            s = param[0]\n",
    "            y_head += direct*alpha if row[feature] >= s else -1*direct*alpha\n",
    "        \n",
    "        classified_y = 1 if y_head >= 0 else -1 \n",
    "        predicted_y.append(classified_y)\n",
    "        \n",
    "    # calculate error\n",
    "    error_rate = 0\n",
    "    for idx in range(len(pd_matrix)):\n",
    "        error_rate += 1 if y[idx]*predicted_y[idx] < 0 else 0\n",
    "    \n",
    "    error_rate /= len(pd_matrix)\n",
    "    return error_rate  \n",
    "                "
   ]
  },
  {
   "cell_type": "code",
   "execution_count": 246,
   "metadata": {
    "collapsed": false
   },
   "outputs": [
    {
     "name": "stdout",
     "output_type": "stream",
     "text": [
      "0.0\n",
      "0.132\n",
      "0.29\n"
     ]
    }
   ],
   "source": [
    "# train G\n",
    "print(calculate_G(train_data))\n",
    "# test G\n",
    "print(calculate_G(test_data))\n",
    "# test g1\n",
    "s = ada_stump_params[0][0]\n",
    "direct = ada_stump_params[0][1]\n",
    "feature_i = ada_stump_params[0][2]\n",
    "error = 0\n",
    "for idx in range(len(test_data)):\n",
    "    row = test_data.iloc[idx]\n",
    "    y = row[2]\n",
    "    y_hat = direct*(row[feature_i] - s)\n",
    "    if y*y_hat < 0:\n",
    "        error += 1\n",
    "print(error/len(test_data))"
   ]
  },
  {
   "cell_type": "code",
   "execution_count": 247,
   "metadata": {
    "collapsed": false
   },
   "outputs": [
    {
     "name": "stdout",
     "output_type": "stream",
     "text": [
      "0.854166260163\n",
      "0.00540148658261\n"
     ]
    }
   ],
   "source": [
    "# u0\n",
    "print(np.sum(ada_stump_params[0][-1]))\n",
    "# ut\n",
    "print(np.sum(ada_stump_params[299][-1]))"
   ]
  },
  {
   "cell_type": "code",
   "execution_count": null,
   "metadata": {
    "collapsed": false
   },
   "outputs": [],
   "source": []
  },
  {
   "cell_type": "code",
   "execution_count": null,
   "metadata": {
    "collapsed": false
   },
   "outputs": [],
   "source": []
  },
  {
   "cell_type": "code",
   "execution_count": null,
   "metadata": {
    "collapsed": false
   },
   "outputs": [],
   "source": []
  },
  {
   "cell_type": "code",
   "execution_count": null,
   "metadata": {
    "collapsed": true
   },
   "outputs": [],
   "source": []
  }
 ],
 "metadata": {
  "kernelspec": {
   "display_name": "Python 3",
   "language": "python",
   "name": "python3"
  },
  "language_info": {
   "codemirror_mode": {
    "name": "ipython",
    "version": 3
   },
   "file_extension": ".py",
   "mimetype": "text/x-python",
   "name": "python",
   "nbconvert_exporter": "python",
   "pygments_lexer": "ipython3",
   "version": "3.6.0"
  }
 },
 "nbformat": 4,
 "nbformat_minor": 2
}
